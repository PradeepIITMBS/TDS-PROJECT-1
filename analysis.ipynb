{
  "nbformat": 4,
  "nbformat_minor": 0,
  "metadata": {
    "colab": {
      "provenance": [],
      "authorship_tag": "ABX9TyOl1ikH3RoK/thL2MtMQpjS",
      "include_colab_link": true
    },
    "kernelspec": {
      "name": "python3",
      "display_name": "Python 3"
    },
    "language_info": {
      "name": "python"
    }
  },
  "cells": [
    {
      "cell_type": "markdown",
      "metadata": {
        "id": "view-in-github",
        "colab_type": "text"
      },
      "source": [
        "<a href=\"https://colab.research.google.com/github/PradeepIITMBS/TDS-PROJECT-1/blob/main/analysis.ipynb\" target=\"_parent\"><img src=\"https://colab.research.google.com/assets/colab-badge.svg\" alt=\"Open In Colab\"/></a>"
      ]
    },
    {
      "cell_type": "code",
      "execution_count": null,
      "metadata": {
        "id": "62XcJTJvUK-e"
      },
      "outputs": [],
      "source": [
        "import pandas as pd\n",
        "import statsmodels.api as sm"
      ]
    },
    {
      "cell_type": "code",
      "source": [
        "users_df = pd.read_csv('users.csv')\n",
        "repos_df = pd.read_csv('repositories.csv')"
      ],
      "metadata": {
        "id": "WITm3OuQUv4w"
      },
      "execution_count": null,
      "outputs": []
    },
    {
      "cell_type": "code",
      "source": [
        "# 1. Who are the top 5 users in Singapore with the highest number of followers? List their login in order, comma-separated.\n",
        "top_five_users = users_df.sort_values(by='followers', ascending=False).head(5)['login'].tolist()\n",
        "print( \",\".join(top_five_users))"
      ],
      "metadata": {
        "colab": {
          "base_uri": "https://localhost:8080/"
        },
        "id": "agr3kfpeVPcS",
        "outputId": "196dfbc3-331f-4af2-f49c-4e8fa8fa7a39"
      },
      "execution_count": null,
      "outputs": [
        {
          "output_type": "stream",
          "name": "stdout",
          "text": [
            "yyx990803,halfrost,DIYgod,yangshun,bytedance\n"
          ]
        }
      ]
    },
    {
      "cell_type": "code",
      "source": [
        "# 2. Who are the 5 earliest registered GitHub users in Singapore? List their login in ascending order of created_at, comma-separated.\n",
        "earliest_five_users = users_df.sort_values(by='created_at', ascending=True).head(5)['login'].tolist()\n",
        "print(\",\".join(earliest_five_users))"
      ],
      "metadata": {
        "colab": {
          "base_uri": "https://localhost:8080/"
        },
        "id": "wyc9IDAoVU2J",
        "outputId": "2e92e402-4f30-4792-da54-40c7a94cca20"
      },
      "execution_count": null,
      "outputs": [
        {
          "output_type": "stream",
          "name": "stdout",
          "text": [
            "chuyeow,choonkeat,winston,cheeaun,nowa\n"
          ]
        }
      ]
    },
    {
      "cell_type": "code",
      "source": [
        "# 3. What are the 3 most popular license among these users? Ignore missing licenses. List the license_name in order, comma-separated.\n",
        "repos_with_license = repos_df[repos_df['license_name'].notnull()]\n",
        "top_3_licenses = repos_with_license['license_name'].value_counts().head(3).index.tolist()\n",
        "print(\",\".join(top_3_licenses))"
      ],
      "metadata": {
        "colab": {
          "base_uri": "https://localhost:8080/"
        },
        "id": "CKL6NoUIVbBc",
        "outputId": "6a2f5b82-7cf3-44cd-8bee-57feaf284826"
      },
      "execution_count": null,
      "outputs": [
        {
          "output_type": "stream",
          "name": "stdout",
          "text": [
            "mit,apache-2.0,other\n"
          ]
        }
      ]
    },
    {
      "cell_type": "code",
      "source": [
        "# 4. Which company do the majority of these developers work at?\n",
        "users_with_company = users_df[users_df['company'].notnull()].copy()\n",
        "users_with_company.loc[:, 'company'] = users_with_company['company'].str.strip().str.lstrip('@').str.upper()\n",
        "most_common_company = users_with_company['company'].value_counts().idxmax()\n",
        "print( most_common_company)"
      ],
      "metadata": {
        "colab": {
          "base_uri": "https://localhost:8080/"
        },
        "id": "2Hb9UNeaVdsT",
        "outputId": "c89387aa-1cd1-42c6-8f25-9c2f818e0e38"
      },
      "execution_count": null,
      "outputs": [
        {
          "output_type": "stream",
          "name": "stdout",
          "text": [
            "NATIONAL UNIVERSITY OF SINGAPORE\n"
          ]
        }
      ]
    },
    {
      "cell_type": "code",
      "source": [
        "# 5. Which programming language is most popular among these users?\n",
        "repos_with_language = repos_df[repos_df['language'].notnull()]\n",
        "most_common_language = repos_with_language['language'].value_counts().idxmax()\n",
        "print(most_common_language)"
      ],
      "metadata": {
        "colab": {
          "base_uri": "https://localhost:8080/"
        },
        "id": "J7Pi5GTmVfGX",
        "outputId": "dbe9260f-4bf1-4518-e7ab-520fe52c2022"
      },
      "execution_count": null,
      "outputs": [
        {
          "output_type": "stream",
          "name": "stdout",
          "text": [
            "JavaScript\n"
          ]
        }
      ]
    },
    {
      "cell_type": "code",
      "source": [
        "# 6. Which programming language is the second most popular among users who joined after 2020?\n",
        "users_df['created_at'] = pd.to_datetime(users_df['created_at'], utc=True)\n",
        "comparison_date = pd.to_datetime('2020-01-01').tz_localize('UTC')\n",
        "users_after_2020 = users_df[users_df['created_at'] > comparison_date]\n",
        "second_most_common_language = repos_df[repos_df['language'].notnull() & repos_df['login'].isin(users_after_2020['login'])]['language'].value_counts().nlargest(2).idxmin()\n",
        "print(second_most_common_language)"
      ],
      "metadata": {
        "colab": {
          "base_uri": "https://localhost:8080/"
        },
        "id": "cYib_pGUVhfv",
        "outputId": "9a49b3f0-d790-4872-8110-9a0de6faea81"
      },
      "execution_count": null,
      "outputs": [
        {
          "output_type": "stream",
          "name": "stdout",
          "text": [
            "Python\n"
          ]
        }
      ]
    },
    {
      "cell_type": "code",
      "source": [
        "# 7. Which language has the highest average number of stars per repository?\n",
        "avg_stars_per_language = repos_df.groupby('language')['stargazers_count'].mean().idxmax()\n",
        "print( avg_stars_per_language)"
      ],
      "metadata": {
        "colab": {
          "base_uri": "https://localhost:8080/"
        },
        "id": "4BPDRxv9Vks9",
        "outputId": "f7723112-2c3e-4c01-e6fa-abec1c068b0f"
      },
      "execution_count": null,
      "outputs": [
        {
          "output_type": "stream",
          "name": "stdout",
          "text": [
            "Inno Setup\n"
          ]
        }
      ]
    },
    {
      "cell_type": "code",
      "source": [
        "# 8. Let's define leader_strength as followers / (1 + following). Who are the top 5 in terms of leader_strength? List their login in order, comma-separated.\n",
        "users_df['leader_strength'] = users_df['followers'] / (1 + users_df['following'])\n",
        "top_5_leader_strength = users_df.sort_values(by='leader_strength', ascending=False).head(5)['login'].tolist()\n",
        "print(\",\".join(top_5_leader_strength))"
      ],
      "metadata": {
        "colab": {
          "base_uri": "https://localhost:8080/"
        },
        "id": "l4oIJGimVrI7",
        "outputId": "a67aadc7-4212-4366-d31e-5c29e5c32fe5"
      },
      "execution_count": null,
      "outputs": [
        {
          "output_type": "stream",
          "name": "stdout",
          "text": [
            "bytedance,Jinjiang,cloudflare,JamesNK,Shib-Chain\n"
          ]
        }
      ]
    },
    {
      "cell_type": "code",
      "source": [
        "# 9. What is the correlation between the number of followers and the number of public repositories among users in Singapore?\n",
        "correlation = users_df['followers'].corr(users_df['public_repos'])\n",
        "print(round(correlation, 3))"
      ],
      "metadata": {
        "colab": {
          "base_uri": "https://localhost:8080/"
        },
        "id": "YcEHJEHBVyOo",
        "outputId": "31814f97-a54c-4aad-97fb-ae2b90226542"
      },
      "execution_count": null,
      "outputs": [
        {
          "output_type": "stream",
          "name": "stdout",
          "text": [
            "0.046\n"
          ]
        }
      ]
    },
    {
      "cell_type": "code",
      "source": [
        "# 10. Does creating more repos help users get more followers? Using regression, estimate how many additional followers a user gets per additional public repository.\n",
        "X = users_df['public_repos']\n",
        "y = users_df['followers']\n",
        "X = sm.add_constant(X)\n",
        "model = sm.OLS(y, X).fit()\n",
        "slope = model.params.iloc[1]\n",
        "print(round(slope, 3))"
      ],
      "metadata": {
        "colab": {
          "base_uri": "https://localhost:8080/"
        },
        "id": "-V-A03o_VzFi",
        "outputId": "b032789c-edbd-43ab-f53f-9b5fd069036a"
      },
      "execution_count": null,
      "outputs": [
        {
          "output_type": "stream",
          "name": "stdout",
          "text": [
            "1.451\n"
          ]
        }
      ]
    },
    {
      "cell_type": "code",
      "source": [
        "# 11. Do people typically enable projects and wikis together? What is the correlation between a repo having projects enabled and having wiki enabled?\n",
        "correlation_projects_wiki = repos_df['has_projects'].astype(int).corr(repos_df['has_wiki'].astype(int))\n",
        "print(round(correlation_projects_wiki, 3))"
      ],
      "metadata": {
        "colab": {
          "base_uri": "https://localhost:8080/"
        },
        "id": "UwaH4DjyV3A1",
        "outputId": "197fe7ef-a62e-408f-b07a-f10c4616bf7e"
      },
      "execution_count": null,
      "outputs": [
        {
          "output_type": "stream",
          "name": "stdout",
          "text": [
            "0.304\n"
          ]
        }
      ]
    },
    {
      "cell_type": "code",
      "source": [
        "# 12. Do hireable users follow more people than those who are not hireable?\n",
        "average_following_hireable = users_df[users_df['hireable'] == True]['following'].mean()\n",
        "average_following_non_hireable = users_df[users_df['hireable'] == False]['following'].mean()\n",
        "following_difference = average_following_hireable - average_following_non_hireable\n",
        "print(f\"{following_difference:.3f}\")"
      ],
      "metadata": {
        "colab": {
          "base_uri": "https://localhost:8080/"
        },
        "id": "TwK0mxjiV51T",
        "outputId": "a6bce423-c9b0-4345-8c75-00b7d5c664d3"
      },
      "execution_count": null,
      "outputs": [
        {
          "output_type": "stream",
          "name": "stdout",
          "text": [
            "nan\n"
          ]
        }
      ]
    },
    {
      "cell_type": "code",
      "source": [
        "# 13. Some developers write long bios. Does that help them get more followers?\n",
        "users_df['bio_length'] = users_df['bio'].str.len()\n",
        "bio_length_correlation = users_df[users_df['bio'].notna()]['bio_length'].corr(users_df['followers'])\n",
        "print(f\"{bio_length_correlation:.3f}\")"
      ],
      "metadata": {
        "colab": {
          "base_uri": "https://localhost:8080/"
        },
        "id": "5KJgwgw-V8L2",
        "outputId": "6deedb45-d0d3-4780-83cd-8e3c834faec3"
      },
      "execution_count": null,
      "outputs": [
        {
          "output_type": "stream",
          "name": "stdout",
          "text": [
            "0.050\n"
          ]
        }
      ]
    },
    {
      "cell_type": "code",
      "source": [
        "# 14. Who created the most repositories on weekends (UTC)? List the top 5 users' login in order, comma-separated\n",
        "repos_df['created_at'] = pd.to_datetime(repos_df['created_at'])\n",
        "repos_df['created_on_weekend'] = repos_df['created_at'].dt.dayofweek >= 5\n",
        "weekend_repos = repos_df[repos_df['created_on_weekend']]\n",
        "top_users_weekend = weekend_repos['login'].value_counts().head(5).index.tolist()\n",
        "print(','.join(top_users_weekend))"
      ],
      "metadata": {
        "colab": {
          "base_uri": "https://localhost:8080/"
        },
        "id": "MpYGyMckV-Zd",
        "outputId": "98ae3c4e-166b-4a7b-efbb-71291441701e"
      },
      "execution_count": null,
      "outputs": [
        {
          "output_type": "stream",
          "name": "stdout",
          "text": [
            "alextanhongpin,SOF3,shantanu561993,KennyDizi,vdt\n"
          ]
        }
      ]
    },
    {
      "cell_type": "code",
      "source": [
        "# 15. Do people who are hireable share their email addresses more often?\n",
        "fraction_email_hireable = users_df[users_df['hireable'] == True]['email'].notna().mean()\n",
        "fraction_email_non_hireable = users_df[users_df['hireable'] == False]['email'].notna().mean()\n",
        "email_fraction_difference = fraction_email_hireable - fraction_email_non_hireable\n",
        "print(f\"{email_fraction_difference:.3f}\")"
      ],
      "metadata": {
        "colab": {
          "base_uri": "https://localhost:8080/"
        },
        "id": "X2Ia9Jl2WL0U",
        "outputId": "c0fee400-9d65-4f48-f658-f3c170310bad"
      },
      "execution_count": null,
      "outputs": [
        {
          "output_type": "stream",
          "name": "stdout",
          "text": [
            "nan\n"
          ]
        }
      ]
    },
    {
      "cell_type": "code",
      "source": [
        "# 16. Let's assume that the last word in a user's name is their surname (ignore missing names, trim and split by whitespace.) What's the most common surname? (If there's a tie, list them all, comma-separated, alphabetically)\n",
        "users_df['surname'] = users_df['name'].str.split().str[-1]\n",
        "common_surnames = users_df['surname'].value_counts()\n",
        "most_common_surname = common_surnames.idxmax()\n",
        "most_common_surname_count = common_surnames.max()\n",
        "print(f\"Ans 16 : Most common surname: {most_common_surname} with {most_common_surname_count} users\")"
      ],
      "metadata": {
        "colab": {
          "base_uri": "https://localhost:8080/"
        },
        "id": "B4ysv1A9WORG",
        "outputId": "7f508521-8659-4036-e02a-f40c7b4b7157"
      },
      "execution_count": null,
      "outputs": [
        {
          "output_type": "stream",
          "name": "stdout",
          "text": [
            "Ans 16 : Most common surname: Wang with 14 users\n"
          ]
        }
      ]
    }
  ]
}