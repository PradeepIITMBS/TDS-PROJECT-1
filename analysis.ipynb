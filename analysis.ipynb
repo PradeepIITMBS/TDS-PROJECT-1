{
  "nbformat": 4,
  "nbformat_minor": 0,
  "metadata": {
    "colab": {
      "provenance": [],
      "authorship_tag": "ABX9TyMspZajzMXPwoeQSk3X1oRy",
      "include_colab_link": true
    },
    "kernelspec": {
      "name": "python3",
      "display_name": "Python 3"
    },
    "language_info": {
      "name": "python"
    }
  },
  "cells": [
    {
      "cell_type": "markdown",
      "metadata": {
        "id": "view-in-github",
        "colab_type": "text"
      },
      "source": [
        "<a href=\"https://colab.research.google.com/github/PradeepIITMBS/TDS-PROJECT-1/blob/main/analysis.ipynb\" target=\"_parent\"><img src=\"https://colab.research.google.com/assets/colab-badge.svg\" alt=\"Open In Colab\"/></a>"
      ]
    },
    {
      "cell_type": "code",
      "execution_count": 2,
      "metadata": {
        "id": "62XcJTJvUK-e"
      },
      "outputs": [],
      "source": [
        "import pandas as pd\n",
        "import statsmodels.api as sm"
      ]
    },
    {
      "cell_type": "code",
      "source": [
        "users_df = pd.read_csv('users.csv')\n",
        "repos_df = pd.read_csv('repositories.csv')"
      ],
      "metadata": {
        "id": "WITm3OuQUv4w"
      },
      "execution_count": 3,
      "outputs": []
    },
    {
      "cell_type": "code",
      "source": [
        "# 1. Who are the top 5 users in Singapore with the highest number of followers? List their login in order, comma-separated.\n",
        "top_five_users = users_df.sort_values(by='followers', ascending=False).head(5)['login'].tolist()\n",
        "print( \",\".join(top_five_users))"
      ],
      "metadata": {
        "colab": {
          "base_uri": "https://localhost:8080/"
        },
        "id": "agr3kfpeVPcS",
        "outputId": "6e2e36f1-54cf-44a9-f4a5-f9582ab00dae"
      },
      "execution_count": 4,
      "outputs": [
        {
          "output_type": "stream",
          "name": "stdout",
          "text": [
            "yyx990803,halfrost,DIYgod,yangshun,bytedance\n"
          ]
        }
      ]
    },
    {
      "cell_type": "code",
      "source": [
        "# 2. Who are the 5 earliest registered GitHub users in Singapore? List their login in ascending order of created_at, comma-separated.\n",
        "earliest_five_users = users_df.sort_values(by='created_at', ascending=True).head(5)['login'].tolist()\n",
        "print(\",\".join(earliest_five_users))"
      ],
      "metadata": {
        "colab": {
          "base_uri": "https://localhost:8080/"
        },
        "id": "wyc9IDAoVU2J",
        "outputId": "6b03ef59-6bb5-4e7c-a7ca-5705523b24c8"
      },
      "execution_count": 5,
      "outputs": [
        {
          "output_type": "stream",
          "name": "stdout",
          "text": [
            "chuyeow,choonkeat,winston,cheeaun,nowa\n"
          ]
        }
      ]
    },
    {
      "cell_type": "code",
      "source": [
        "# 3. What are the 3 most popular license among these users? Ignore missing licenses. List the license_name in order, comma-separated.\n",
        "repos_with_license = repos_df[repos_df['license_name'].notnull()]\n",
        "top_3_licenses = repos_with_license['license_name'].value_counts().head(3).index.tolist()\n",
        "print(\",\".join(top_3_licenses))"
      ],
      "metadata": {
        "colab": {
          "base_uri": "https://localhost:8080/"
        },
        "id": "CKL6NoUIVbBc",
        "outputId": "bfa9984d-4f09-47ce-b55a-aaef3287b904"
      },
      "execution_count": 6,
      "outputs": [
        {
          "output_type": "stream",
          "name": "stdout",
          "text": [
            "mit,apache-2.0,other\n"
          ]
        }
      ]
    },
    {
      "cell_type": "code",
      "source": [
        "# 4. Which company do the majority of these developers work at?\n",
        "users_with_company = users_df[users_df['company'].notnull()].copy()\n",
        "users_with_company.loc[:, 'company'] = users_with_company['company'].str.strip().str.lstrip('@').str.upper()\n",
        "most_common_company = users_with_company['company'].value_counts().idxmax()\n",
        "print( most_common_company)"
      ],
      "metadata": {
        "colab": {
          "base_uri": "https://localhost:8080/"
        },
        "id": "2Hb9UNeaVdsT",
        "outputId": "bb180190-32dc-4b52-f2eb-baa793bb4caf"
      },
      "execution_count": 7,
      "outputs": [
        {
          "output_type": "stream",
          "name": "stdout",
          "text": [
            "NATIONAL UNIVERSITY OF SINGAPORE\n"
          ]
        }
      ]
    },
    {
      "cell_type": "code",
      "source": [
        "# 5. Which programming language is most popular among these users?\n",
        "repos_with_language = repos_df[repos_df['language'].notnull()]\n",
        "most_common_language = repos_with_language['language'].value_counts().idxmax()\n",
        "print(most_common_language)"
      ],
      "metadata": {
        "colab": {
          "base_uri": "https://localhost:8080/"
        },
        "id": "J7Pi5GTmVfGX",
        "outputId": "03b5fce0-e21f-4bee-aa2f-701e08326a00"
      },
      "execution_count": 8,
      "outputs": [
        {
          "output_type": "stream",
          "name": "stdout",
          "text": [
            "JavaScript\n"
          ]
        }
      ]
    },
    {
      "cell_type": "code",
      "source": [
        "# 6. Which programming language is the second most popular among users who joined after 2020?\n",
        "users_df['created_at'] = pd.to_datetime(users_df['created_at'], utc=True)\n",
        "comparison_date = pd.to_datetime('2020-01-01').tz_localize('UTC')\n",
        "users_after_2020 = users_df[users_df['created_at'] > comparison_date]\n",
        "second_most_common_language = repos_df[repos_df['language'].notnull() & repos_df['login'].isin(users_after_2020['login'])]['language'].value_counts().nlargest(2).idxmin()\n",
        "print(second_most_common_language)"
      ],
      "metadata": {
        "colab": {
          "base_uri": "https://localhost:8080/"
        },
        "id": "cYib_pGUVhfv",
        "outputId": "c70140db-a7c8-437b-8479-4b7ad004a7f2"
      },
      "execution_count": 9,
      "outputs": [
        {
          "output_type": "stream",
          "name": "stdout",
          "text": [
            "Python\n"
          ]
        }
      ]
    },
    {
      "cell_type": "code",
      "source": [
        "# 7. Which language has the highest average number of stars per repository?\n",
        "avg_stars_per_language = repos_df.groupby('language')['stargazers_count'].mean().idxmax()\n",
        "print( avg_stars_per_language)"
      ],
      "metadata": {
        "colab": {
          "base_uri": "https://localhost:8080/"
        },
        "id": "4BPDRxv9Vks9",
        "outputId": "cd918d69-746f-47a4-be12-b90c0b924968"
      },
      "execution_count": 10,
      "outputs": [
        {
          "output_type": "stream",
          "name": "stdout",
          "text": [
            "Inno Setup\n"
          ]
        }
      ]
    },
    {
      "cell_type": "code",
      "source": [
        "# 8. Let's define leader_strength as followers / (1 + following). Who are the top 5 in terms of leader_strength? List their login in order, comma-separated.\n",
        "users_df['leader_strength'] = users_df['followers'] / (1 + users_df['following'])\n",
        "top_5_leader_strength = users_df.sort_values(by='leader_strength', ascending=False).head(5)['login'].tolist()\n",
        "print(\",\".join(top_5_leader_strength))"
      ],
      "metadata": {
        "colab": {
          "base_uri": "https://localhost:8080/"
        },
        "id": "l4oIJGimVrI7",
        "outputId": "d9f5e7b3-ab7d-4b72-f6ce-50932a875caf"
      },
      "execution_count": 11,
      "outputs": [
        {
          "output_type": "stream",
          "name": "stdout",
          "text": [
            "bytedance,Jinjiang,cloudflare,Shib-Chain,rustdesk\n"
          ]
        }
      ]
    },
    {
      "cell_type": "code",
      "source": [
        "# 9. What is the correlation between the number of followers and the number of public repositories among users in Singapore?\n",
        "correlation = users_df['followers'].corr(users_df['public_repos'])\n",
        "print(round(correlation, 3))"
      ],
      "metadata": {
        "colab": {
          "base_uri": "https://localhost:8080/"
        },
        "id": "YcEHJEHBVyOo",
        "outputId": "699418f1-91f4-4aa6-d58c-02d95916ac64"
      },
      "execution_count": 12,
      "outputs": [
        {
          "output_type": "stream",
          "name": "stdout",
          "text": [
            "0.046\n"
          ]
        }
      ]
    },
    {
      "cell_type": "code",
      "source": [
        "# 10. Does creating more repos help users get more followers? Using regression, estimate how many additional followers a user gets per additional public repository.\n",
        "X = users_df['public_repos']\n",
        "y = users_df['followers']\n",
        "X = sm.add_constant(X)\n",
        "model = sm.OLS(y, X).fit()\n",
        "slope = model.params.iloc[1]\n",
        "print(round(slope, 3))"
      ],
      "metadata": {
        "colab": {
          "base_uri": "https://localhost:8080/"
        },
        "id": "-V-A03o_VzFi",
        "outputId": "ad5cf023-4c22-4ad6-bd8a-caf86c7ef3fb"
      },
      "execution_count": 13,
      "outputs": [
        {
          "output_type": "stream",
          "name": "stdout",
          "text": [
            "1.448\n"
          ]
        }
      ]
    },
    {
      "cell_type": "code",
      "source": [
        "# 11. Do people typically enable projects and wikis together? What is the correlation between a repo having projects enabled and having wiki enabled?\n",
        "correlation_projects_wiki = repos_df['has_projects'].astype(int).corr(repos_df['has_wiki'].astype(int))\n",
        "print(round(correlation_projects_wiki, 3))"
      ],
      "metadata": {
        "colab": {
          "base_uri": "https://localhost:8080/"
        },
        "id": "UwaH4DjyV3A1",
        "outputId": "962ebb7c-75f2-4a55-d969-12231575e25e"
      },
      "execution_count": 14,
      "outputs": [
        {
          "output_type": "stream",
          "name": "stdout",
          "text": [
            "0.304\n"
          ]
        }
      ]
    },
    {
      "cell_type": "code",
      "source": [
        "# 12. Do hireable users follow more people than those who are not hireable?\n",
        "average_following_hireable = users_df[users_df['hireable'] == True]['following'].mean()\n",
        "average_following_non_hireable = users_df[users_df['hireable'] != True]['following'].mean()\n",
        "following_difference = average_following_hireable - average_following_non_hireable\n",
        "print(f\"{following_difference:.3f}\")"
      ],
      "metadata": {
        "colab": {
          "base_uri": "https://localhost:8080/"
        },
        "id": "TwK0mxjiV51T",
        "outputId": "59616636-a036-4290-c0ed-7674e2408bff"
      },
      "execution_count": 20,
      "outputs": [
        {
          "output_type": "stream",
          "name": "stdout",
          "text": [
            "221.167\n"
          ]
        }
      ]
    },
    {
      "cell_type": "code",
      "source": [
        "# 13. Some developers write long bios. Does that help them get more followers?\n",
        "users_df['bio_length'] = users_df['bio'].str.len()\n",
        "bio_length_correlation = users_df[users_df['bio'].notna()]['bio_length'].corr(users_df['followers'])\n",
        "print(f\"{bio_length_correlation:.3f}\")"
      ],
      "metadata": {
        "colab": {
          "base_uri": "https://localhost:8080/"
        },
        "id": "5KJgwgw-V8L2",
        "outputId": "52a16a13-44e6-4ed3-a87d-768b881137f3"
      },
      "execution_count": 16,
      "outputs": [
        {
          "output_type": "stream",
          "name": "stdout",
          "text": [
            "0.050\n"
          ]
        }
      ]
    },
    {
      "cell_type": "code",
      "source": [
        "# 14. Who created the most repositories on weekends (UTC)? List the top 5 users' login in order, comma-separated\n",
        "repos_df['created_at'] = pd.to_datetime(repos_df['created_at'])\n",
        "repos_df['created_on_weekend'] = repos_df['created_at'].dt.dayofweek >= 5\n",
        "weekend_repos = repos_df[repos_df['created_on_weekend']]\n",
        "top_users_weekend = weekend_repos['login'].value_counts().head(5).index.tolist()\n",
        "print(','.join(top_users_weekend))"
      ],
      "metadata": {
        "colab": {
          "base_uri": "https://localhost:8080/"
        },
        "id": "MpYGyMckV-Zd",
        "outputId": "ad11dd8c-3186-4890-b63b-b380abba8e24"
      },
      "execution_count": 17,
      "outputs": [
        {
          "output_type": "stream",
          "name": "stdout",
          "text": [
            "alextanhongpin,SOF3,shantanu561993,KennyDizi,vdt\n"
          ]
        }
      ]
    },
    {
      "cell_type": "code",
      "source": [
        "# 15. Do people who are hireable share their email addresses more often?\n",
        "fraction_email_hireable = users_df[users_df['hireable'] == True]['email'].notna().mean()\n",
        "fraction_email_non_hireable = users_df[users_df['hireable'] != True]['email'].notna().mean()\n",
        "email_fraction_difference = fraction_email_hireable - fraction_email_non_hireable\n",
        "print(f\"{email_fraction_difference:.3f}\")"
      ],
      "metadata": {
        "colab": {
          "base_uri": "https://localhost:8080/"
        },
        "id": "X2Ia9Jl2WL0U",
        "outputId": "5a8857aa-c5d7-442b-c6ae-ee7163544aae"
      },
      "execution_count": 21,
      "outputs": [
        {
          "output_type": "stream",
          "name": "stdout",
          "text": [
            "0.074\n"
          ]
        }
      ]
    },
    {
      "cell_type": "code",
      "source": [
        "# 16. Let's assume that the last word in a user's name is their surname (ignore missing names, trim and split by whitespace.) What's the most common surname? (If there's a tie, list them all, comma-separated, alphabetically)\n",
        "users_df['surname'] = users_df['name'].str.split().str[-1]\n",
        "common_surnames = users_df['surname'].value_counts()\n",
        "most_common_surname = common_surnames.idxmax()\n",
        "most_common_surname_count = common_surnames.max()\n",
        "print(f\"Ans 16 : Most common surname: {most_common_surname} with {most_common_surname_count} users\")"
      ],
      "metadata": {
        "colab": {
          "base_uri": "https://localhost:8080/"
        },
        "id": "B4ysv1A9WORG",
        "outputId": "e0067d99-9827-4f72-962a-af497f414939"
      },
      "execution_count": 19,
      "outputs": [
        {
          "output_type": "stream",
          "name": "stdout",
          "text": [
            "Ans 16 : Most common surname: Wang with 14 users\n"
          ]
        }
      ]
    }
  ]
}